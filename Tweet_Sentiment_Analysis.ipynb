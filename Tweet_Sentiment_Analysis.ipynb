{
 "cells": [
  {
   "cell_type": "code",
   "execution_count": 1,
   "id": "9b13f6a0",
   "metadata": {},
   "outputs": [],
   "source": [
    "import nltk\n",
    "import re\n",
    "import pandas as pd\n",
    "import numpy as np\n",
    "import warnings\n",
    "import seaborn as sns\n",
    "warnings.filterwarnings('ignore', category=DeprecationWarning)\n",
    "pd.set_option('display.max_columns',None)\n",
    "pd.set_option('display.max_rows',None)\n"
   ]
  },
  {
   "cell_type": "code",
   "execution_count": 2,
   "id": "b0e5706d",
   "metadata": {},
   "outputs": [],
   "source": [
    "tweets = pd.read_json(\"C:/Users/HP/anaconda3/DataScience/NaturalLanguageProcessing/tweets.json\")"
   ]
  },
  {
   "cell_type": "code",
   "execution_count": 3,
   "id": "904ed1ed",
   "metadata": {},
   "outputs": [],
   "source": [
    "df= tweets"
   ]
  },
  {
   "cell_type": "code",
   "execution_count": 4,
   "id": "13dd2671",
   "metadata": {},
   "outputs": [],
   "source": [
    "df=df.T"
   ]
  },
  {
   "cell_type": "code",
   "execution_count": 5,
   "id": "944ec06d",
   "metadata": {},
   "outputs": [
    {
     "data": {
      "text/html": [
       "<div>\n",
       "<style scoped>\n",
       "    .dataframe tbody tr th:only-of-type {\n",
       "        vertical-align: middle;\n",
       "    }\n",
       "\n",
       "    .dataframe tbody tr th {\n",
       "        vertical-align: top;\n",
       "    }\n",
       "\n",
       "    .dataframe thead th {\n",
       "        text-align: right;\n",
       "    }\n",
       "</style>\n",
       "<table border=\"1\" class=\"dataframe\">\n",
       "  <thead>\n",
       "    <tr style=\"text-align: right;\">\n",
       "      <th></th>\n",
       "      <th>tweet_author</th>\n",
       "      <th>tweet_text</th>\n",
       "    </tr>\n",
       "  </thead>\n",
       "  <tbody>\n",
       "    <tr>\n",
       "      <th>2013-07-18 09:39:46.071961602</th>\n",
       "      <td>Hematopoiesis News</td>\n",
       "      <td>⚕️ Scientists conducted a Phase II study of ac...</td>\n",
       "    </tr>\n",
       "    <tr>\n",
       "      <th>2013-07-17 03:40:32.173842437</th>\n",
       "      <td>Michael Wang, MD</td>\n",
       "      <td>This phase 2 Acalabrutinib-Venetoclax (AV) tri...</td>\n",
       "    </tr>\n",
       "    <tr>\n",
       "      <th>2013-07-15 15:41:16.553048065</th>\n",
       "      <td>1stOncology</td>\n",
       "      <td>#NICE backs #AstraZenecas #Calquence for #CLL ...</td>\n",
       "    </tr>\n",
       "    <tr>\n",
       "      <th>2013-07-12 19:19:42.367813635</th>\n",
       "      <td>Toby Eyre</td>\n",
       "      <td>#acalabrutinib is a valuable option in pts int...</td>\n",
       "    </tr>\n",
       "    <tr>\n",
       "      <th>2013-07-04 12:40:34.334232586</th>\n",
       "      <td>Lymphoma Hub</td>\n",
       "      <td>NICE has recommended the use of acalabrutinib ...</td>\n",
       "    </tr>\n",
       "  </tbody>\n",
       "</table>\n",
       "</div>"
      ],
      "text/plain": [
       "                                     tweet_author  \\\n",
       "2013-07-18 09:39:46.071961602  Hematopoiesis News   \n",
       "2013-07-17 03:40:32.173842437    Michael Wang, MD   \n",
       "2013-07-15 15:41:16.553048065         1stOncology   \n",
       "2013-07-12 19:19:42.367813635           Toby Eyre   \n",
       "2013-07-04 12:40:34.334232586        Lymphoma Hub   \n",
       "\n",
       "                                                                      tweet_text  \n",
       "2013-07-18 09:39:46.071961602  ⚕️ Scientists conducted a Phase II study of ac...  \n",
       "2013-07-17 03:40:32.173842437  This phase 2 Acalabrutinib-Venetoclax (AV) tri...  \n",
       "2013-07-15 15:41:16.553048065  #NICE backs #AstraZenecas #Calquence for #CLL ...  \n",
       "2013-07-12 19:19:42.367813635  #acalabrutinib is a valuable option in pts int...  \n",
       "2013-07-04 12:40:34.334232586  NICE has recommended the use of acalabrutinib ...  "
      ]
     },
     "execution_count": 5,
     "metadata": {},
     "output_type": "execute_result"
    }
   ],
   "source": [
    "df.head()"
   ]
  },
  {
   "cell_type": "code",
   "execution_count": 6,
   "id": "38e8bbb7",
   "metadata": {},
   "outputs": [
    {
     "name": "stdout",
     "output_type": "stream",
     "text": [
      "41776\n"
     ]
    }
   ],
   "source": [
    "from nltk.tokenize import sent_tokenize,word_tokenize\n",
    "from nltk.corpus import stopwords\n",
    "unique_text = df.tweet_text.unique()\n",
    "print(len(unique_text))"
   ]
  },
  {
   "cell_type": "code",
   "execution_count": 7,
   "id": "2ae7cf65",
   "metadata": {},
   "outputs": [
    {
     "data": {
      "text/html": [
       "<div>\n",
       "<style scoped>\n",
       "    .dataframe tbody tr th:only-of-type {\n",
       "        vertical-align: middle;\n",
       "    }\n",
       "\n",
       "    .dataframe tbody tr th {\n",
       "        vertical-align: top;\n",
       "    }\n",
       "\n",
       "    .dataframe thead th {\n",
       "        text-align: right;\n",
       "    }\n",
       "</style>\n",
       "<table border=\"1\" class=\"dataframe\">\n",
       "  <thead>\n",
       "    <tr style=\"text-align: right;\">\n",
       "      <th></th>\n",
       "      <th>tweet_author</th>\n",
       "      <th>tweet_text</th>\n",
       "    </tr>\n",
       "  </thead>\n",
       "  <tbody>\n",
       "    <tr>\n",
       "      <th>2013-07-18 09:39:46.071961602</th>\n",
       "      <td>Hematopoiesis News</td>\n",
       "      <td>⚕️ Scientists conducted a Phase II study of ac...</td>\n",
       "    </tr>\n",
       "    <tr>\n",
       "      <th>2013-07-17 03:40:32.173842437</th>\n",
       "      <td>Michael Wang, MD</td>\n",
       "      <td>This phase 2 Acalabrutinib-Venetoclax (AV) tri...</td>\n",
       "    </tr>\n",
       "    <tr>\n",
       "      <th>2013-07-15 15:41:16.553048065</th>\n",
       "      <td>1stOncology</td>\n",
       "      <td>#NICE backs #AstraZenecas #Calquence for #CLL ...</td>\n",
       "    </tr>\n",
       "    <tr>\n",
       "      <th>2013-07-12 19:19:42.367813635</th>\n",
       "      <td>Toby Eyre</td>\n",
       "      <td>#acalabrutinib is a valuable option in pts int...</td>\n",
       "    </tr>\n",
       "    <tr>\n",
       "      <th>2013-07-04 12:40:34.334232586</th>\n",
       "      <td>Lymphoma Hub</td>\n",
       "      <td>NICE has recommended the use of acalabrutinib ...</td>\n",
       "    </tr>\n",
       "  </tbody>\n",
       "</table>\n",
       "</div>"
      ],
      "text/plain": [
       "                                     tweet_author  \\\n",
       "2013-07-18 09:39:46.071961602  Hematopoiesis News   \n",
       "2013-07-17 03:40:32.173842437    Michael Wang, MD   \n",
       "2013-07-15 15:41:16.553048065         1stOncology   \n",
       "2013-07-12 19:19:42.367813635           Toby Eyre   \n",
       "2013-07-04 12:40:34.334232586        Lymphoma Hub   \n",
       "\n",
       "                                                                      tweet_text  \n",
       "2013-07-18 09:39:46.071961602  ⚕️ Scientists conducted a Phase II study of ac...  \n",
       "2013-07-17 03:40:32.173842437  This phase 2 Acalabrutinib-Venetoclax (AV) tri...  \n",
       "2013-07-15 15:41:16.553048065  #NICE backs #AstraZenecas #Calquence for #CLL ...  \n",
       "2013-07-12 19:19:42.367813635  #acalabrutinib is a valuable option in pts int...  \n",
       "2013-07-04 12:40:34.334232586  NICE has recommended the use of acalabrutinib ...  "
      ]
     },
     "execution_count": 7,
     "metadata": {},
     "output_type": "execute_result"
    }
   ],
   "source": [
    "df.head()"
   ]
  },
  {
   "cell_type": "code",
   "execution_count": 8,
   "id": "97c97187",
   "metadata": {},
   "outputs": [
    {
     "data": {
      "text/plain": [
       "'⚕️ Scientists conducted a Phase II study of acalabrutinib in patients with relapsed/refractory #CLL who were ibrutinib-intolerant, and found an overall response rate of 73%. \\nhttps://t.co/eJ6m4QpC5P https://t.co/kuZz6ZO47r'"
      ]
     },
     "execution_count": 8,
     "metadata": {},
     "output_type": "execute_result"
    }
   ],
   "source": [
    "df['tweet_text'][0]"
   ]
  },
  {
   "cell_type": "code",
   "execution_count": 9,
   "id": "08ddd57c",
   "metadata": {},
   "outputs": [],
   "source": [
    "def remove_pattern(input_text,pattern):\n",
    "    r= re.findall(pattern,input_text)\n",
    "    for i in r:\n",
    "        input_text= re.sub(i,'',input_text)\n",
    "        \n",
    "    return input_text"
   ]
  },
  {
   "cell_type": "markdown",
   "id": "79f29794",
   "metadata": {},
   "source": [
    "### Remove any @mentions"
   ]
  },
  {
   "cell_type": "code",
   "execution_count": 10,
   "id": "10192e1e",
   "metadata": {},
   "outputs": [
    {
     "data": {
      "text/plain": [
       "2013-07-18 09:39:46.071961602    ⚕️ Scientists conducted a Phase II study of ac...\n",
       "2013-07-17 03:40:32.173842437    This phase 2 Acalabrutinib-Venetoclax (AV) tri...\n",
       "2013-07-15 15:41:16.553048065    #NICE backs #AstraZenecas #Calquence for #CLL ...\n",
       "2013-07-12 19:19:42.367813635    #acalabrutinib is a valuable option in pts int...\n",
       "2013-07-04 12:40:34.334232586    NICE has recommended the use of acalabrutinib ...\n",
       "Name: clean_text, dtype: object"
      ]
     },
     "execution_count": 10,
     "metadata": {},
     "output_type": "execute_result"
    }
   ],
   "source": [
    "df['clean_text']= np.vectorize(remove_pattern)(df['tweet_text'],\"@[\\w]*\")\n",
    "df['clean_text'][0:5]"
   ]
  },
  {
   "cell_type": "code",
   "execution_count": 11,
   "id": "b9d572c6",
   "metadata": {},
   "outputs": [
    {
     "name": "stderr",
     "output_type": "stream",
     "text": [
      "<ipython-input-11-acd3bf826c60>:1: FutureWarning: The default value of regex will change from True to False in a future version.\n",
      "  df['clean_text']= df['clean_text'].str.replace(\"[^a-zA-Z#]\",\" \")\n",
      "<ipython-input-11-acd3bf826c60>:2: FutureWarning: The default value of regex will change from True to False in a future version.\n",
      "  df['clean_text']= df['clean_text'].str.replace(\"[[\\w]'']\",\" \")\n",
      "C:\\Users\\HP\\anaconda3\\lib\\site-packages\\pandas\\core\\strings\\object_array.py:160: FutureWarning: Possible nested set at position 1\n",
      "  compiled = re.compile(pat, flags=flags)\n"
     ]
    },
    {
     "data": {
      "text/plain": [
       "2013-07-18 09:39:46.071961602       Scientists conducted a Phase II study of ac...\n",
       "2013-07-17 03:40:32.173842437    This phase   Acalabrutinib Venetoclax  AV  tri...\n",
       "2013-07-15 15:41:16.553048065    #NICE backs #AstraZenecas #Calquence for #CLL ...\n",
       "2013-07-12 19:19:42.367813635    #acalabrutinib is a valuable option in pts int...\n",
       "2013-07-04 12:40:34.334232586    NICE has recommended the use of acalabrutinib ...\n",
       "Name: clean_text, dtype: object"
      ]
     },
     "execution_count": 11,
     "metadata": {},
     "output_type": "execute_result"
    }
   ],
   "source": [
    "df['clean_text']= df['clean_text'].str.replace(\"[^a-zA-Z#]\",\" \")\n",
    "df['clean_text']= df['clean_text'].str.replace(\"[[\\w]'']\",\" \")\n",
    "df['clean_text'][0:5]"
   ]
  },
  {
   "cell_type": "code",
   "execution_count": 12,
   "id": "744ec811",
   "metadata": {},
   "outputs": [
    {
     "data": {
      "text/plain": [
       "2013-07-18 09:39:46.071961602       scientists conducted a phase ii study of ac...\n",
       "2013-07-17 03:40:32.173842437    this phase   acalabrutinib venetoclax  av  tri...\n",
       "2013-07-15 15:41:16.553048065    #nice backs #astrazenecas #calquence for #cll ...\n",
       "2013-07-12 19:19:42.367813635    #acalabrutinib is a valuable option in pts int...\n",
       "2013-07-04 12:40:34.334232586    nice has recommended the use of acalabrutinib ...\n",
       "Name: clean_text, dtype: object"
      ]
     },
     "execution_count": 12,
     "metadata": {},
     "output_type": "execute_result"
    }
   ],
   "source": [
    "df['clean_text']= df['clean_text'].str.lower()\n",
    "df['clean_text'][0:5]"
   ]
  },
  {
   "cell_type": "code",
   "execution_count": 13,
   "id": "52e4c7d9",
   "metadata": {},
   "outputs": [
    {
     "name": "stderr",
     "output_type": "stream",
     "text": [
      "<ipython-input-13-b2796cc204be>:1: FutureWarning: The default value of regex will change from True to False in a future version.\n",
      "  df['clean_text']=df['clean_text'].str.replace(\"[#]\",\"\")\n",
      "<ipython-input-13-b2796cc204be>:3: FutureWarning: The default value of regex will change from True to False in a future version.\n",
      "  df['clean_text']=df['clean_text'].str.replace(r'http\\S+', '')\n",
      "<ipython-input-13-b2796cc204be>:4: FutureWarning: The default value of regex will change from True to False in a future version.\n",
      "  df['clean_text']=df['clean_text'].str.replace(r'co\\S+', '')\n",
      "<ipython-input-13-b2796cc204be>:5: FutureWarning: The default value of regex will change from True to False in a future version.\n",
      "  df['clean_text']=df['clean_text'].str.replace(r'cll\\S+', '')\n"
     ]
    },
    {
     "data": {
      "text/plain": [
       "2013-07-18 09:39:46.071961602       scientists  a phase ii study of acalabrutin...\n",
       "2013-07-17 03:40:32.173842437    this phase   acalabrutinib venetoclax  av  tri...\n",
       "2013-07-15 15:41:16.553048065    nice backs astrazenecas calquence for cll    t...\n",
       "2013-07-12 19:19:42.367813635    acalabrutinib is a valuable option in pts into...\n",
       "2013-07-04 12:40:34.334232586    nice has re the use of acalabrutinib for patie...\n",
       "Name: clean_text, dtype: object"
      ]
     },
     "execution_count": 13,
     "metadata": {},
     "output_type": "execute_result"
    }
   ],
   "source": [
    "\n",
    "df['clean_text']=df['clean_text'].str.replace(\"[#]\",\"\")\n",
    "df['clean_text']=df['clean_text'].str.replace(\"'\",\"\")\n",
    "df['clean_text']=df['clean_text'].str.replace(r'http\\S+', '')\n",
    "df['clean_text']=df['clean_text'].str.replace(r'co\\S+', '')\n",
    "df['clean_text']=df['clean_text'].str.replace(r'cll\\S+', '')\n",
    "df['clean_text'][0:5]"
   ]
  },
  {
   "cell_type": "code",
   "execution_count": 14,
   "id": "0303d367",
   "metadata": {},
   "outputs": [
    {
     "data": {
      "text/html": [
       "<div>\n",
       "<style scoped>\n",
       "    .dataframe tbody tr th:only-of-type {\n",
       "        vertical-align: middle;\n",
       "    }\n",
       "\n",
       "    .dataframe tbody tr th {\n",
       "        vertical-align: top;\n",
       "    }\n",
       "\n",
       "    .dataframe thead th {\n",
       "        text-align: right;\n",
       "    }\n",
       "</style>\n",
       "<table border=\"1\" class=\"dataframe\">\n",
       "  <thead>\n",
       "    <tr style=\"text-align: right;\">\n",
       "      <th></th>\n",
       "      <th>tweet_author</th>\n",
       "      <th>tweet_text</th>\n",
       "      <th>clean_text</th>\n",
       "    </tr>\n",
       "  </thead>\n",
       "  <tbody>\n",
       "    <tr>\n",
       "      <th>2013-07-18 09:39:46.071961602</th>\n",
       "      <td>Hematopoiesis News</td>\n",
       "      <td>⚕️ Scientists conducted a Phase II study of ac...</td>\n",
       "      <td>scientists a phase ii study of acalabrutinib i...</td>\n",
       "    </tr>\n",
       "    <tr>\n",
       "      <th>2013-07-17 03:40:32.173842437</th>\n",
       "      <td>Michael Wang, MD</td>\n",
       "      <td>This phase 2 Acalabrutinib-Venetoclax (AV) tri...</td>\n",
       "      <td>this phase acalabrutinib venetoclax av trial t...</td>\n",
       "    </tr>\n",
       "    <tr>\n",
       "      <th>2013-07-15 15:41:16.553048065</th>\n",
       "      <td>1stOncology</td>\n",
       "      <td>#NICE backs #AstraZenecas #Calquence for #CLL ...</td>\n",
       "      <td>nice backs astrazenecas calquence for cll t co...</td>\n",
       "    </tr>\n",
       "    <tr>\n",
       "      <th>2013-07-12 19:19:42.367813635</th>\n",
       "      <td>Toby Eyre</td>\n",
       "      <td>#acalabrutinib is a valuable option in pts int...</td>\n",
       "      <td>acalabrutinib is a valuable option in pts into...</td>\n",
       "    </tr>\n",
       "    <tr>\n",
       "      <th>2013-07-04 12:40:34.334232586</th>\n",
       "      <td>Lymphoma Hub</td>\n",
       "      <td>NICE has recommended the use of acalabrutinib ...</td>\n",
       "      <td>nice has re the use of acalabrutinib for patie...</td>\n",
       "    </tr>\n",
       "  </tbody>\n",
       "</table>\n",
       "</div>"
      ],
      "text/plain": [
       "                                     tweet_author  \\\n",
       "2013-07-18 09:39:46.071961602  Hematopoiesis News   \n",
       "2013-07-17 03:40:32.173842437    Michael Wang, MD   \n",
       "2013-07-15 15:41:16.553048065         1stOncology   \n",
       "2013-07-12 19:19:42.367813635           Toby Eyre   \n",
       "2013-07-04 12:40:34.334232586        Lymphoma Hub   \n",
       "\n",
       "                                                                      tweet_text  \\\n",
       "2013-07-18 09:39:46.071961602  ⚕️ Scientists conducted a Phase II study of ac...   \n",
       "2013-07-17 03:40:32.173842437  This phase 2 Acalabrutinib-Venetoclax (AV) tri...   \n",
       "2013-07-15 15:41:16.553048065  #NICE backs #AstraZenecas #Calquence for #CLL ...   \n",
       "2013-07-12 19:19:42.367813635  #acalabrutinib is a valuable option in pts int...   \n",
       "2013-07-04 12:40:34.334232586  NICE has recommended the use of acalabrutinib ...   \n",
       "\n",
       "                                                                      clean_text  \n",
       "2013-07-18 09:39:46.071961602  scientists a phase ii study of acalabrutinib i...  \n",
       "2013-07-17 03:40:32.173842437  this phase acalabrutinib venetoclax av trial t...  \n",
       "2013-07-15 15:41:16.553048065  nice backs astrazenecas calquence for cll t co...  \n",
       "2013-07-12 19:19:42.367813635  acalabrutinib is a valuable option in pts into...  \n",
       "2013-07-04 12:40:34.334232586  nice has re the use of acalabrutinib for patie...  "
      ]
     },
     "execution_count": 14,
     "metadata": {},
     "output_type": "execute_result"
    }
   ],
   "source": [
    "df['clean_text']=df['clean_text'].apply(lambda x: ' '.join([w for w in x.split() if len(x)>2]))\n",
    "df.head()"
   ]
  },
  {
   "cell_type": "code",
   "execution_count": 15,
   "id": "1d88f6d0",
   "metadata": {},
   "outputs": [
    {
     "data": {
      "text/plain": [
       "2013-07-18 09:39:46.071961602    [scientists, a, phase, ii, study, of, acalabru...\n",
       "2013-07-17 03:40:32.173842437    [this, phase, acalabrutinib, venetoclax, av, t...\n",
       "2013-07-15 15:41:16.553048065    [nice, backs, astrazenecas, calquence, for, cl...\n",
       "2013-07-12 19:19:42.367813635    [acalabrutinib, is, a, valuable, option, in, p...\n",
       "2013-07-04 12:40:34.334232586    [nice, has, re, the, use, of, acalabrutinib, f...\n",
       "Name: clean_text, dtype: object"
      ]
     },
     "execution_count": 15,
     "metadata": {},
     "output_type": "execute_result"
    }
   ],
   "source": [
    "tokenized_tweet = df['clean_text'].apply(lambda x: x.split())\n",
    "tokenized_tweet.head()"
   ]
  },
  {
   "cell_type": "code",
   "execution_count": 16,
   "id": "4a4cd90e",
   "metadata": {},
   "outputs": [],
   "source": [
    "df['tokenized']=tokenized_tweet"
   ]
  },
  {
   "cell_type": "code",
   "execution_count": 17,
   "id": "e5bf29aa",
   "metadata": {},
   "outputs": [
    {
     "data": {
      "text/html": [
       "<div>\n",
       "<style scoped>\n",
       "    .dataframe tbody tr th:only-of-type {\n",
       "        vertical-align: middle;\n",
       "    }\n",
       "\n",
       "    .dataframe tbody tr th {\n",
       "        vertical-align: top;\n",
       "    }\n",
       "\n",
       "    .dataframe thead th {\n",
       "        text-align: right;\n",
       "    }\n",
       "</style>\n",
       "<table border=\"1\" class=\"dataframe\">\n",
       "  <thead>\n",
       "    <tr style=\"text-align: right;\">\n",
       "      <th></th>\n",
       "      <th>tweet_author</th>\n",
       "      <th>tweet_text</th>\n",
       "      <th>clean_text</th>\n",
       "      <th>tokenized</th>\n",
       "    </tr>\n",
       "  </thead>\n",
       "  <tbody>\n",
       "    <tr>\n",
       "      <th>2013-07-18 09:39:46.071961602</th>\n",
       "      <td>Hematopoiesis News</td>\n",
       "      <td>⚕️ Scientists conducted a Phase II study of ac...</td>\n",
       "      <td>scientists a phase ii study of acalabrutinib i...</td>\n",
       "      <td>[scientists, a, phase, ii, study, of, acalabru...</td>\n",
       "    </tr>\n",
       "    <tr>\n",
       "      <th>2013-07-17 03:40:32.173842437</th>\n",
       "      <td>Michael Wang, MD</td>\n",
       "      <td>This phase 2 Acalabrutinib-Venetoclax (AV) tri...</td>\n",
       "      <td>this phase acalabrutinib venetoclax av trial t...</td>\n",
       "      <td>[this, phase, acalabrutinib, venetoclax, av, t...</td>\n",
       "    </tr>\n",
       "    <tr>\n",
       "      <th>2013-07-15 15:41:16.553048065</th>\n",
       "      <td>1stOncology</td>\n",
       "      <td>#NICE backs #AstraZenecas #Calquence for #CLL ...</td>\n",
       "      <td>nice backs astrazenecas calquence for cll t co...</td>\n",
       "      <td>[nice, backs, astrazenecas, calquence, for, cl...</td>\n",
       "    </tr>\n",
       "    <tr>\n",
       "      <th>2013-07-12 19:19:42.367813635</th>\n",
       "      <td>Toby Eyre</td>\n",
       "      <td>#acalabrutinib is a valuable option in pts int...</td>\n",
       "      <td>acalabrutinib is a valuable option in pts into...</td>\n",
       "      <td>[acalabrutinib, is, a, valuable, option, in, p...</td>\n",
       "    </tr>\n",
       "    <tr>\n",
       "      <th>2013-07-04 12:40:34.334232586</th>\n",
       "      <td>Lymphoma Hub</td>\n",
       "      <td>NICE has recommended the use of acalabrutinib ...</td>\n",
       "      <td>nice has re the use of acalabrutinib for patie...</td>\n",
       "      <td>[nice, has, re, the, use, of, acalabrutinib, f...</td>\n",
       "    </tr>\n",
       "  </tbody>\n",
       "</table>\n",
       "</div>"
      ],
      "text/plain": [
       "                                     tweet_author  \\\n",
       "2013-07-18 09:39:46.071961602  Hematopoiesis News   \n",
       "2013-07-17 03:40:32.173842437    Michael Wang, MD   \n",
       "2013-07-15 15:41:16.553048065         1stOncology   \n",
       "2013-07-12 19:19:42.367813635           Toby Eyre   \n",
       "2013-07-04 12:40:34.334232586        Lymphoma Hub   \n",
       "\n",
       "                                                                      tweet_text  \\\n",
       "2013-07-18 09:39:46.071961602  ⚕️ Scientists conducted a Phase II study of ac...   \n",
       "2013-07-17 03:40:32.173842437  This phase 2 Acalabrutinib-Venetoclax (AV) tri...   \n",
       "2013-07-15 15:41:16.553048065  #NICE backs #AstraZenecas #Calquence for #CLL ...   \n",
       "2013-07-12 19:19:42.367813635  #acalabrutinib is a valuable option in pts int...   \n",
       "2013-07-04 12:40:34.334232586  NICE has recommended the use of acalabrutinib ...   \n",
       "\n",
       "                                                                      clean_text  \\\n",
       "2013-07-18 09:39:46.071961602  scientists a phase ii study of acalabrutinib i...   \n",
       "2013-07-17 03:40:32.173842437  this phase acalabrutinib venetoclax av trial t...   \n",
       "2013-07-15 15:41:16.553048065  nice backs astrazenecas calquence for cll t co...   \n",
       "2013-07-12 19:19:42.367813635  acalabrutinib is a valuable option in pts into...   \n",
       "2013-07-04 12:40:34.334232586  nice has re the use of acalabrutinib for patie...   \n",
       "\n",
       "                                                                       tokenized  \n",
       "2013-07-18 09:39:46.071961602  [scientists, a, phase, ii, study, of, acalabru...  \n",
       "2013-07-17 03:40:32.173842437  [this, phase, acalabrutinib, venetoclax, av, t...  \n",
       "2013-07-15 15:41:16.553048065  [nice, backs, astrazenecas, calquence, for, cl...  \n",
       "2013-07-12 19:19:42.367813635  [acalabrutinib, is, a, valuable, option, in, p...  \n",
       "2013-07-04 12:40:34.334232586  [nice, has, re, the, use, of, acalabrutinib, f...  "
      ]
     },
     "execution_count": 17,
     "metadata": {},
     "output_type": "execute_result"
    }
   ],
   "source": [
    "df.head()"
   ]
  },
  {
   "cell_type": "code",
   "execution_count": 18,
   "id": "fac32f86",
   "metadata": {},
   "outputs": [],
   "source": [
    "stopwords = nltk.corpus.stopwords.words('english')\n",
    "df['tokenized']=df['tokenized'].apply(lambda x: [item for item in x if item not in stopwords])\n"
   ]
  },
  {
   "cell_type": "code",
   "execution_count": 19,
   "id": "27b9e56c",
   "metadata": {},
   "outputs": [
    {
     "data": {
      "text/html": [
       "<div>\n",
       "<style scoped>\n",
       "    .dataframe tbody tr th:only-of-type {\n",
       "        vertical-align: middle;\n",
       "    }\n",
       "\n",
       "    .dataframe tbody tr th {\n",
       "        vertical-align: top;\n",
       "    }\n",
       "\n",
       "    .dataframe thead th {\n",
       "        text-align: right;\n",
       "    }\n",
       "</style>\n",
       "<table border=\"1\" class=\"dataframe\">\n",
       "  <thead>\n",
       "    <tr style=\"text-align: right;\">\n",
       "      <th></th>\n",
       "      <th>tweet_author</th>\n",
       "      <th>tweet_text</th>\n",
       "      <th>clean_text</th>\n",
       "      <th>tokenized</th>\n",
       "    </tr>\n",
       "  </thead>\n",
       "  <tbody>\n",
       "    <tr>\n",
       "      <th>2013-07-18 09:39:46.071961602</th>\n",
       "      <td>Hematopoiesis News</td>\n",
       "      <td>⚕️ Scientists conducted a Phase II study of ac...</td>\n",
       "      <td>scientists a phase ii study of acalabrutinib i...</td>\n",
       "      <td>[scientists, phase, ii, study, acalabrutinib, ...</td>\n",
       "    </tr>\n",
       "    <tr>\n",
       "      <th>2013-07-17 03:40:32.173842437</th>\n",
       "      <td>Michael Wang, MD</td>\n",
       "      <td>This phase 2 Acalabrutinib-Venetoclax (AV) tri...</td>\n",
       "      <td>this phase acalabrutinib venetoclax av trial t...</td>\n",
       "      <td>[phase, acalabrutinib, venetoclax, av, trial, ...</td>\n",
       "    </tr>\n",
       "    <tr>\n",
       "      <th>2013-07-15 15:41:16.553048065</th>\n",
       "      <td>1stOncology</td>\n",
       "      <td>#NICE backs #AstraZenecas #Calquence for #CLL ...</td>\n",
       "      <td>nice backs astrazenecas calquence for cll t co...</td>\n",
       "      <td>[nice, backs, astrazenecas, calquence, cll, co...</td>\n",
       "    </tr>\n",
       "    <tr>\n",
       "      <th>2013-07-12 19:19:42.367813635</th>\n",
       "      <td>Toby Eyre</td>\n",
       "      <td>#acalabrutinib is a valuable option in pts int...</td>\n",
       "      <td>acalabrutinib is a valuable option in pts into...</td>\n",
       "      <td>[acalabrutinib, valuable, option, pts, intoler...</td>\n",
       "    </tr>\n",
       "    <tr>\n",
       "      <th>2013-07-04 12:40:34.334232586</th>\n",
       "      <td>Lymphoma Hub</td>\n",
       "      <td>NICE has recommended the use of acalabrutinib ...</td>\n",
       "      <td>nice has re the use of acalabrutinib for patie...</td>\n",
       "      <td>[nice, use, acalabrutinib, patients, treatment...</td>\n",
       "    </tr>\n",
       "  </tbody>\n",
       "</table>\n",
       "</div>"
      ],
      "text/plain": [
       "                                     tweet_author  \\\n",
       "2013-07-18 09:39:46.071961602  Hematopoiesis News   \n",
       "2013-07-17 03:40:32.173842437    Michael Wang, MD   \n",
       "2013-07-15 15:41:16.553048065         1stOncology   \n",
       "2013-07-12 19:19:42.367813635           Toby Eyre   \n",
       "2013-07-04 12:40:34.334232586        Lymphoma Hub   \n",
       "\n",
       "                                                                      tweet_text  \\\n",
       "2013-07-18 09:39:46.071961602  ⚕️ Scientists conducted a Phase II study of ac...   \n",
       "2013-07-17 03:40:32.173842437  This phase 2 Acalabrutinib-Venetoclax (AV) tri...   \n",
       "2013-07-15 15:41:16.553048065  #NICE backs #AstraZenecas #Calquence for #CLL ...   \n",
       "2013-07-12 19:19:42.367813635  #acalabrutinib is a valuable option in pts int...   \n",
       "2013-07-04 12:40:34.334232586  NICE has recommended the use of acalabrutinib ...   \n",
       "\n",
       "                                                                      clean_text  \\\n",
       "2013-07-18 09:39:46.071961602  scientists a phase ii study of acalabrutinib i...   \n",
       "2013-07-17 03:40:32.173842437  this phase acalabrutinib venetoclax av trial t...   \n",
       "2013-07-15 15:41:16.553048065  nice backs astrazenecas calquence for cll t co...   \n",
       "2013-07-12 19:19:42.367813635  acalabrutinib is a valuable option in pts into...   \n",
       "2013-07-04 12:40:34.334232586  nice has re the use of acalabrutinib for patie...   \n",
       "\n",
       "                                                                       tokenized  \n",
       "2013-07-18 09:39:46.071961602  [scientists, phase, ii, study, acalabrutinib, ...  \n",
       "2013-07-17 03:40:32.173842437  [phase, acalabrutinib, venetoclax, av, trial, ...  \n",
       "2013-07-15 15:41:16.553048065  [nice, backs, astrazenecas, calquence, cll, co...  \n",
       "2013-07-12 19:19:42.367813635  [acalabrutinib, valuable, option, pts, intoler...  \n",
       "2013-07-04 12:40:34.334232586  [nice, use, acalabrutinib, patients, treatment...  "
      ]
     },
     "execution_count": 19,
     "metadata": {},
     "output_type": "execute_result"
    }
   ],
   "source": [
    "df.head()"
   ]
  },
  {
   "cell_type": "code",
   "execution_count": 20,
   "id": "50db1ed7",
   "metadata": {},
   "outputs": [],
   "source": [
    "from nltk.stem import WordNetLemmatizer\n",
    "lemmatizer= WordNetLemmatizer()"
   ]
  },
  {
   "cell_type": "code",
   "execution_count": 21,
   "id": "380cafb1",
   "metadata": {},
   "outputs": [],
   "source": [
    "\n",
    "df['lemmatize'] = df['tokenized'].apply(lambda lst:[lemmatizer.lemmatize(word) for word in lst])\n"
   ]
  },
  {
   "cell_type": "code",
   "execution_count": 22,
   "id": "75778a9c",
   "metadata": {},
   "outputs": [
    {
     "data": {
      "text/html": [
       "<div>\n",
       "<style scoped>\n",
       "    .dataframe tbody tr th:only-of-type {\n",
       "        vertical-align: middle;\n",
       "    }\n",
       "\n",
       "    .dataframe tbody tr th {\n",
       "        vertical-align: top;\n",
       "    }\n",
       "\n",
       "    .dataframe thead th {\n",
       "        text-align: right;\n",
       "    }\n",
       "</style>\n",
       "<table border=\"1\" class=\"dataframe\">\n",
       "  <thead>\n",
       "    <tr style=\"text-align: right;\">\n",
       "      <th></th>\n",
       "      <th>tweet_author</th>\n",
       "      <th>tweet_text</th>\n",
       "      <th>clean_text</th>\n",
       "      <th>tokenized</th>\n",
       "      <th>lemmatize</th>\n",
       "    </tr>\n",
       "  </thead>\n",
       "  <tbody>\n",
       "    <tr>\n",
       "      <th>2013-07-18 09:39:46.071961602</th>\n",
       "      <td>Hematopoiesis News</td>\n",
       "      <td>⚕️ Scientists conducted a Phase II study of ac...</td>\n",
       "      <td>scientists a phase ii study of acalabrutinib i...</td>\n",
       "      <td>[scientists, phase, ii, study, acalabrutinib, ...</td>\n",
       "      <td>[scientist, phase, ii, study, acalabrutinib, p...</td>\n",
       "    </tr>\n",
       "    <tr>\n",
       "      <th>2013-07-17 03:40:32.173842437</th>\n",
       "      <td>Michael Wang, MD</td>\n",
       "      <td>This phase 2 Acalabrutinib-Venetoclax (AV) tri...</td>\n",
       "      <td>this phase acalabrutinib venetoclax av trial t...</td>\n",
       "      <td>[phase, acalabrutinib, venetoclax, av, trial, ...</td>\n",
       "      <td>[phase, acalabrutinib, venetoclax, av, trial, ...</td>\n",
       "    </tr>\n",
       "    <tr>\n",
       "      <th>2013-07-15 15:41:16.553048065</th>\n",
       "      <td>1stOncology</td>\n",
       "      <td>#NICE backs #AstraZenecas #Calquence for #CLL ...</td>\n",
       "      <td>nice backs astrazenecas calquence for cll t co...</td>\n",
       "      <td>[nice, backs, astrazenecas, calquence, cll, co...</td>\n",
       "      <td>[nice, back, astrazenecas, calquence, cll, co,...</td>\n",
       "    </tr>\n",
       "    <tr>\n",
       "      <th>2013-07-12 19:19:42.367813635</th>\n",
       "      <td>Toby Eyre</td>\n",
       "      <td>#acalabrutinib is a valuable option in pts int...</td>\n",
       "      <td>acalabrutinib is a valuable option in pts into...</td>\n",
       "      <td>[acalabrutinib, valuable, option, pts, intoler...</td>\n",
       "      <td>[acalabrutinib, valuable, option, pt, intolera...</td>\n",
       "    </tr>\n",
       "    <tr>\n",
       "      <th>2013-07-04 12:40:34.334232586</th>\n",
       "      <td>Lymphoma Hub</td>\n",
       "      <td>NICE has recommended the use of acalabrutinib ...</td>\n",
       "      <td>nice has re the use of acalabrutinib for patie...</td>\n",
       "      <td>[nice, use, acalabrutinib, patients, treatment...</td>\n",
       "      <td>[nice, use, acalabrutinib, patient, treatment,...</td>\n",
       "    </tr>\n",
       "  </tbody>\n",
       "</table>\n",
       "</div>"
      ],
      "text/plain": [
       "                                     tweet_author  \\\n",
       "2013-07-18 09:39:46.071961602  Hematopoiesis News   \n",
       "2013-07-17 03:40:32.173842437    Michael Wang, MD   \n",
       "2013-07-15 15:41:16.553048065         1stOncology   \n",
       "2013-07-12 19:19:42.367813635           Toby Eyre   \n",
       "2013-07-04 12:40:34.334232586        Lymphoma Hub   \n",
       "\n",
       "                                                                      tweet_text  \\\n",
       "2013-07-18 09:39:46.071961602  ⚕️ Scientists conducted a Phase II study of ac...   \n",
       "2013-07-17 03:40:32.173842437  This phase 2 Acalabrutinib-Venetoclax (AV) tri...   \n",
       "2013-07-15 15:41:16.553048065  #NICE backs #AstraZenecas #Calquence for #CLL ...   \n",
       "2013-07-12 19:19:42.367813635  #acalabrutinib is a valuable option in pts int...   \n",
       "2013-07-04 12:40:34.334232586  NICE has recommended the use of acalabrutinib ...   \n",
       "\n",
       "                                                                      clean_text  \\\n",
       "2013-07-18 09:39:46.071961602  scientists a phase ii study of acalabrutinib i...   \n",
       "2013-07-17 03:40:32.173842437  this phase acalabrutinib venetoclax av trial t...   \n",
       "2013-07-15 15:41:16.553048065  nice backs astrazenecas calquence for cll t co...   \n",
       "2013-07-12 19:19:42.367813635  acalabrutinib is a valuable option in pts into...   \n",
       "2013-07-04 12:40:34.334232586  nice has re the use of acalabrutinib for patie...   \n",
       "\n",
       "                                                                       tokenized  \\\n",
       "2013-07-18 09:39:46.071961602  [scientists, phase, ii, study, acalabrutinib, ...   \n",
       "2013-07-17 03:40:32.173842437  [phase, acalabrutinib, venetoclax, av, trial, ...   \n",
       "2013-07-15 15:41:16.553048065  [nice, backs, astrazenecas, calquence, cll, co...   \n",
       "2013-07-12 19:19:42.367813635  [acalabrutinib, valuable, option, pts, intoler...   \n",
       "2013-07-04 12:40:34.334232586  [nice, use, acalabrutinib, patients, treatment...   \n",
       "\n",
       "                                                                       lemmatize  \n",
       "2013-07-18 09:39:46.071961602  [scientist, phase, ii, study, acalabrutinib, p...  \n",
       "2013-07-17 03:40:32.173842437  [phase, acalabrutinib, venetoclax, av, trial, ...  \n",
       "2013-07-15 15:41:16.553048065  [nice, back, astrazenecas, calquence, cll, co,...  \n",
       "2013-07-12 19:19:42.367813635  [acalabrutinib, valuable, option, pt, intolera...  \n",
       "2013-07-04 12:40:34.334232586  [nice, use, acalabrutinib, patient, treatment,...  "
      ]
     },
     "execution_count": 22,
     "metadata": {},
     "output_type": "execute_result"
    }
   ],
   "source": [
    "df.head()"
   ]
  },
  {
   "cell_type": "code",
   "execution_count": 23,
   "id": "4b3b5864",
   "metadata": {},
   "outputs": [],
   "source": [
    "import os\n",
    "import matplotlib.pyplot as plt\n",
    "from wordcloud import WordCloud"
   ]
  },
  {
   "cell_type": "code",
   "execution_count": 24,
   "id": "75ddd1f4",
   "metadata": {},
   "outputs": [
    {
     "data": {
      "image/png": "[encoded data removed]",
      "text/plain": [
       "<Figure size 432x288 with 1 Axes>"
      ]
     },
     "metadata": {
      "needs_background": "light"
     },
     "output_type": "display_data"
    }
   ],
   "source": [
    "input_text = df['lemmatize'].values \n",
    "\n",
    "wordcloud = WordCloud().generate(str(input_text))\n",
    "\n",
    "plt.imshow(wordcloud)\n",
    "plt.axis(\"off\")\n",
    "plt.show()"
   ]
  },
  {
   "cell_type": "code",
   "execution_count": 25,
   "id": "dc7cadaa",
   "metadata": {},
   "outputs": [
    {
     "name": "stdout",
     "output_type": "stream",
     "text": [
      "Requirement already satisfied: textblob in c:\\users\\hp\\anaconda3\\lib\\site-packages (0.17.1)\n",
      "Requirement already satisfied: nltk>=3.1 in c:\\users\\hp\\anaconda3\\lib\\site-packages (from textblob) (3.6.1)\n",
      "Requirement already satisfied: tqdm in c:\\users\\hp\\anaconda3\\lib\\site-packages (from nltk>=3.1->textblob) (4.59.0)\n",
      "Requirement already satisfied: regex in c:\\users\\hp\\anaconda3\\lib\\site-packages (from nltk>=3.1->textblob) (2021.4.4)\n",
      "Requirement already satisfied: joblib in c:\\users\\hp\\anaconda3\\lib\\site-packages (from nltk>=3.1->textblob) (1.0.1)\n",
      "Requirement already satisfied: click in c:\\users\\hp\\anaconda3\\lib\\site-packages (from nltk>=3.1->textblob) (7.1.2)\n",
      "Requirement already satisfied: vaderSentiment in c:\\users\\hp\\anaconda3\\lib\\site-packages (3.3.2)\n",
      "Requirement already satisfied: requests in c:\\users\\hp\\anaconda3\\lib\\site-packages (from vaderSentiment) (2.25.1)\n",
      "Requirement already satisfied: certifi>=2017.4.17 in c:\\users\\hp\\anaconda3\\lib\\site-packages (from requests->vaderSentiment) (2020.12.5)\n",
      "Requirement already satisfied: urllib3<1.27,>=1.21.1 in c:\\users\\hp\\anaconda3\\lib\\site-packages (from requests->vaderSentiment) (1.26.4)\n",
      "Requirement already satisfied: chardet<5,>=3.0.2 in c:\\users\\hp\\anaconda3\\lib\\site-packages (from requests->vaderSentiment) (3.0.4)\n",
      "Requirement already satisfied: idna<3,>=2.5 in c:\\users\\hp\\anaconda3\\lib\\site-packages (from requests->vaderSentiment) (2.10)\n",
      "Requirement already satisfied: watson_developer_cloud in c:\\users\\hp\\anaconda3\\lib\\site-packages (2.10.1)\n",
      "Requirement already satisfied: python-dateutil>=2.5.3 in c:\\users\\hp\\anaconda3\\lib\\site-packages (from watson_developer_cloud) (2.8.1)\n",
      "Requirement already satisfied: requests<3.0,>=2.0 in c:\\users\\hp\\anaconda3\\lib\\site-packages (from watson_developer_cloud) (2.25.1)\n",
      "Requirement already satisfied: websocket-client==0.48.0 in c:\\users\\hp\\anaconda3\\lib\\site-packages (from watson_developer_cloud) (0.48.0)\n",
      "Requirement already satisfied: six in c:\\users\\hp\\anaconda3\\lib\\site-packages (from websocket-client==0.48.0->watson_developer_cloud) (1.15.0)\n",
      "Requirement already satisfied: certifi>=2017.4.17 in c:\\users\\hp\\anaconda3\\lib\\site-packages (from requests<3.0,>=2.0->watson_developer_cloud) (2020.12.5)\n",
      "Requirement already satisfied: urllib3<1.27,>=1.21.1 in c:\\users\\hp\\anaconda3\\lib\\site-packages (from requests<3.0,>=2.0->watson_developer_cloud) (1.26.4)\n",
      "Requirement already satisfied: chardet<5,>=3.0.2 in c:\\users\\hp\\anaconda3\\lib\\site-packages (from requests<3.0,>=2.0->watson_developer_cloud) (3.0.4)\n",
      "Requirement already satisfied: idna<3,>=2.5 in c:\\users\\hp\\anaconda3\\lib\\site-packages (from requests<3.0,>=2.0->watson_developer_cloud) (2.10)\n",
      "Requirement already satisfied: config in c:\\users\\hp\\anaconda3\\lib\\site-packages (0.5.1)\n"
     ]
    }
   ],
   "source": [
    "!pip install textblob\n",
    "!pip install vaderSentiment\n",
    "!pip install watson_developer_cloud\n",
    "!pip install config"
   ]
  },
  {
   "cell_type": "code",
   "execution_count": 26,
   "id": "8866278c",
   "metadata": {},
   "outputs": [],
   "source": [
    "import glob\n",
    "from textblob import TextBlob\n",
    "from vaderSentiment.vaderSentiment import SentimentIntensityAnalyzer\n",
    "from watson_developer_cloud import NaturalLanguageUnderstandingV1\n",
    "from watson_developer_cloud.natural_language_understanding_v1 import Features,EntitiesOptions,KeywordsOptions,SentimentOptions,CategoriesOptions\n",
    "from sklearn.metrics import accuracy_score,precision_score,f1_score,confusion_matrix,classification_report\n",
    "import config"
   ]
  },
  {
   "cell_type": "code",
   "execution_count": 27,
   "id": "564e0257",
   "metadata": {},
   "outputs": [],
   "source": [
    "df['calculated']=df['clean_text'].apply(lambda x:(TextBlob(x).sentiment.polarity))"
   ]
  },
  {
   "cell_type": "code",
   "execution_count": 28,
   "id": "4912bf17",
   "metadata": {},
   "outputs": [
    {
     "data": {
      "text/plain": [
       "'⚕️ Scientists conducted a Phase II study of acalabrutinib in patients with relapsed/refractory #CLL who were ibrutinib-intolerant, and found an overall response rate of 73%. \\nhttps://t.co/eJ6m4QpC5P https://t.co/kuZz6ZO47r'"
      ]
     },
     "execution_count": 28,
     "metadata": {},
     "output_type": "execute_result"
    }
   ],
   "source": [
    "df['tweet_text'][0]"
   ]
  },
  {
   "cell_type": "code",
   "execution_count": 29,
   "id": "9c81d81f",
   "metadata": {},
   "outputs": [],
   "source": [
    "df['sentiment']=round(df['calculated'])"
   ]
  },
  {
   "cell_type": "code",
   "execution_count": 30,
   "id": "d032db65",
   "metadata": {},
   "outputs": [],
   "source": [
    "df3=df.drop(['tweet_text','tokenized','lemmatize'],axis=1)"
   ]
  },
  {
   "cell_type": "code",
   "execution_count": 31,
   "id": "5ca2451d",
   "metadata": {},
   "outputs": [
    {
     "data": {
      "text/html": [
       "<div>\n",
       "<style scoped>\n",
       "    .dataframe tbody tr th:only-of-type {\n",
       "        vertical-align: middle;\n",
       "    }\n",
       "\n",
       "    .dataframe tbody tr th {\n",
       "        vertical-align: top;\n",
       "    }\n",
       "\n",
       "    .dataframe thead th {\n",
       "        text-align: right;\n",
       "    }\n",
       "</style>\n",
       "<table border=\"1\" class=\"dataframe\">\n",
       "  <thead>\n",
       "    <tr style=\"text-align: right;\">\n",
       "      <th></th>\n",
       "      <th>tweet_author</th>\n",
       "      <th>clean_text</th>\n",
       "      <th>calculated</th>\n",
       "      <th>sentiment</th>\n",
       "    </tr>\n",
       "  </thead>\n",
       "  <tbody>\n",
       "    <tr>\n",
       "      <th>2013-07-18 09:39:46.071961602</th>\n",
       "      <td>Hematopoiesis News</td>\n",
       "      <td>scientists a phase ii study of acalabrutinib i...</td>\n",
       "      <td>0.00</td>\n",
       "      <td>0.0</td>\n",
       "    </tr>\n",
       "    <tr>\n",
       "      <th>2013-07-17 03:40:32.173842437</th>\n",
       "      <td>Michael Wang, MD</td>\n",
       "      <td>this phase acalabrutinib venetoclax av trial t...</td>\n",
       "      <td>0.00</td>\n",
       "      <td>0.0</td>\n",
       "    </tr>\n",
       "    <tr>\n",
       "      <th>2013-07-15 15:41:16.553048065</th>\n",
       "      <td>1stOncology</td>\n",
       "      <td>nice backs astrazenecas calquence for cll t co...</td>\n",
       "      <td>0.60</td>\n",
       "      <td>1.0</td>\n",
       "    </tr>\n",
       "    <tr>\n",
       "      <th>2013-07-12 19:19:42.367813635</th>\n",
       "      <td>Toby Eyre</td>\n",
       "      <td>acalabrutinib is a valuable option in pts into...</td>\n",
       "      <td>0.05</td>\n",
       "      <td>0.0</td>\n",
       "    </tr>\n",
       "    <tr>\n",
       "      <th>2013-07-04 12:40:34.334232586</th>\n",
       "      <td>Lymphoma Hub</td>\n",
       "      <td>nice has re the use of acalabrutinib for patie...</td>\n",
       "      <td>0.55</td>\n",
       "      <td>1.0</td>\n",
       "    </tr>\n",
       "  </tbody>\n",
       "</table>\n",
       "</div>"
      ],
      "text/plain": [
       "                                     tweet_author  \\\n",
       "2013-07-18 09:39:46.071961602  Hematopoiesis News   \n",
       "2013-07-17 03:40:32.173842437    Michael Wang, MD   \n",
       "2013-07-15 15:41:16.553048065         1stOncology   \n",
       "2013-07-12 19:19:42.367813635           Toby Eyre   \n",
       "2013-07-04 12:40:34.334232586        Lymphoma Hub   \n",
       "\n",
       "                                                                      clean_text  \\\n",
       "2013-07-18 09:39:46.071961602  scientists a phase ii study of acalabrutinib i...   \n",
       "2013-07-17 03:40:32.173842437  this phase acalabrutinib venetoclax av trial t...   \n",
       "2013-07-15 15:41:16.553048065  nice backs astrazenecas calquence for cll t co...   \n",
       "2013-07-12 19:19:42.367813635  acalabrutinib is a valuable option in pts into...   \n",
       "2013-07-04 12:40:34.334232586  nice has re the use of acalabrutinib for patie...   \n",
       "\n",
       "                               calculated  sentiment  \n",
       "2013-07-18 09:39:46.071961602        0.00        0.0  \n",
       "2013-07-17 03:40:32.173842437        0.00        0.0  \n",
       "2013-07-15 15:41:16.553048065        0.60        1.0  \n",
       "2013-07-12 19:19:42.367813635        0.05        0.0  \n",
       "2013-07-04 12:40:34.334232586        0.55        1.0  "
      ]
     },
     "execution_count": 31,
     "metadata": {},
     "output_type": "execute_result"
    }
   ],
   "source": [
    "\n",
    "df3.head()"
   ]
  },
  {
   "cell_type": "code",
   "execution_count": 32,
   "id": "1f1ab700",
   "metadata": {},
   "outputs": [
    {
     "data": {
      "text/html": [
       "<div>\n",
       "<style scoped>\n",
       "    .dataframe tbody tr th:only-of-type {\n",
       "        vertical-align: middle;\n",
       "    }\n",
       "\n",
       "    .dataframe tbody tr th {\n",
       "        vertical-align: top;\n",
       "    }\n",
       "\n",
       "    .dataframe thead th {\n",
       "        text-align: right;\n",
       "    }\n",
       "</style>\n",
       "<table border=\"1\" class=\"dataframe\">\n",
       "  <thead>\n",
       "    <tr style=\"text-align: right;\">\n",
       "      <th></th>\n",
       "      <th>tweet_author</th>\n",
       "      <th>tweet_text</th>\n",
       "      <th>clean_text</th>\n",
       "      <th>tokenized</th>\n",
       "      <th>lemmatize</th>\n",
       "      <th>calculated</th>\n",
       "      <th>sentiment</th>\n",
       "    </tr>\n",
       "  </thead>\n",
       "  <tbody>\n",
       "    <tr>\n",
       "      <th>2013-07-18 09:39:46.071961602</th>\n",
       "      <td>Hematopoiesis News</td>\n",
       "      <td>⚕️ Scientists conducted a Phase II study of ac...</td>\n",
       "      <td>scientists a phase ii study of acalabrutinib i...</td>\n",
       "      <td>[scientists, phase, ii, study, acalabrutinib, ...</td>\n",
       "      <td>[scientist, phase, ii, study, acalabrutinib, p...</td>\n",
       "      <td>0.00</td>\n",
       "      <td>0.0</td>\n",
       "    </tr>\n",
       "    <tr>\n",
       "      <th>2013-07-17 03:40:32.173842437</th>\n",
       "      <td>Michael Wang, MD</td>\n",
       "      <td>This phase 2 Acalabrutinib-Venetoclax (AV) tri...</td>\n",
       "      <td>this phase acalabrutinib venetoclax av trial t...</td>\n",
       "      <td>[phase, acalabrutinib, venetoclax, av, trial, ...</td>\n",
       "      <td>[phase, acalabrutinib, venetoclax, av, trial, ...</td>\n",
       "      <td>0.00</td>\n",
       "      <td>0.0</td>\n",
       "    </tr>\n",
       "    <tr>\n",
       "      <th>2013-07-15 15:41:16.553048065</th>\n",
       "      <td>1stOncology</td>\n",
       "      <td>#NICE backs #AstraZenecas #Calquence for #CLL ...</td>\n",
       "      <td>nice backs astrazenecas calquence for cll t co...</td>\n",
       "      <td>[nice, backs, astrazenecas, calquence, cll, co...</td>\n",
       "      <td>[nice, back, astrazenecas, calquence, cll, co,...</td>\n",
       "      <td>0.60</td>\n",
       "      <td>1.0</td>\n",
       "    </tr>\n",
       "    <tr>\n",
       "      <th>2013-07-12 19:19:42.367813635</th>\n",
       "      <td>Toby Eyre</td>\n",
       "      <td>#acalabrutinib is a valuable option in pts int...</td>\n",
       "      <td>acalabrutinib is a valuable option in pts into...</td>\n",
       "      <td>[acalabrutinib, valuable, option, pts, intoler...</td>\n",
       "      <td>[acalabrutinib, valuable, option, pt, intolera...</td>\n",
       "      <td>0.05</td>\n",
       "      <td>0.0</td>\n",
       "    </tr>\n",
       "    <tr>\n",
       "      <th>2013-07-04 12:40:34.334232586</th>\n",
       "      <td>Lymphoma Hub</td>\n",
       "      <td>NICE has recommended the use of acalabrutinib ...</td>\n",
       "      <td>nice has re the use of acalabrutinib for patie...</td>\n",
       "      <td>[nice, use, acalabrutinib, patients, treatment...</td>\n",
       "      <td>[nice, use, acalabrutinib, patient, treatment,...</td>\n",
       "      <td>0.55</td>\n",
       "      <td>1.0</td>\n",
       "    </tr>\n",
       "  </tbody>\n",
       "</table>\n",
       "</div>"
      ],
      "text/plain": [
       "                                     tweet_author  \\\n",
       "2013-07-18 09:39:46.071961602  Hematopoiesis News   \n",
       "2013-07-17 03:40:32.173842437    Michael Wang, MD   \n",
       "2013-07-15 15:41:16.553048065         1stOncology   \n",
       "2013-07-12 19:19:42.367813635           Toby Eyre   \n",
       "2013-07-04 12:40:34.334232586        Lymphoma Hub   \n",
       "\n",
       "                                                                      tweet_text  \\\n",
       "2013-07-18 09:39:46.071961602  ⚕️ Scientists conducted a Phase II study of ac...   \n",
       "2013-07-17 03:40:32.173842437  This phase 2 Acalabrutinib-Venetoclax (AV) tri...   \n",
       "2013-07-15 15:41:16.553048065  #NICE backs #AstraZenecas #Calquence for #CLL ...   \n",
       "2013-07-12 19:19:42.367813635  #acalabrutinib is a valuable option in pts int...   \n",
       "2013-07-04 12:40:34.334232586  NICE has recommended the use of acalabrutinib ...   \n",
       "\n",
       "                                                                      clean_text  \\\n",
       "2013-07-18 09:39:46.071961602  scientists a phase ii study of acalabrutinib i...   \n",
       "2013-07-17 03:40:32.173842437  this phase acalabrutinib venetoclax av trial t...   \n",
       "2013-07-15 15:41:16.553048065  nice backs astrazenecas calquence for cll t co...   \n",
       "2013-07-12 19:19:42.367813635  acalabrutinib is a valuable option in pts into...   \n",
       "2013-07-04 12:40:34.334232586  nice has re the use of acalabrutinib for patie...   \n",
       "\n",
       "                                                                       tokenized  \\\n",
       "2013-07-18 09:39:46.071961602  [scientists, phase, ii, study, acalabrutinib, ...   \n",
       "2013-07-17 03:40:32.173842437  [phase, acalabrutinib, venetoclax, av, trial, ...   \n",
       "2013-07-15 15:41:16.553048065  [nice, backs, astrazenecas, calquence, cll, co...   \n",
       "2013-07-12 19:19:42.367813635  [acalabrutinib, valuable, option, pts, intoler...   \n",
       "2013-07-04 12:40:34.334232586  [nice, use, acalabrutinib, patients, treatment...   \n",
       "\n",
       "                                                                       lemmatize  \\\n",
       "2013-07-18 09:39:46.071961602  [scientist, phase, ii, study, acalabrutinib, p...   \n",
       "2013-07-17 03:40:32.173842437  [phase, acalabrutinib, venetoclax, av, trial, ...   \n",
       "2013-07-15 15:41:16.553048065  [nice, back, astrazenecas, calquence, cll, co,...   \n",
       "2013-07-12 19:19:42.367813635  [acalabrutinib, valuable, option, pt, intolera...   \n",
       "2013-07-04 12:40:34.334232586  [nice, use, acalabrutinib, patient, treatment,...   \n",
       "\n",
       "                               calculated  sentiment  \n",
       "2013-07-18 09:39:46.071961602        0.00        0.0  \n",
       "2013-07-17 03:40:32.173842437        0.00        0.0  \n",
       "2013-07-15 15:41:16.553048065        0.60        1.0  \n",
       "2013-07-12 19:19:42.367813635        0.05        0.0  \n",
       "2013-07-04 12:40:34.334232586        0.55        1.0  "
      ]
     },
     "execution_count": 32,
     "metadata": {},
     "output_type": "execute_result"
    }
   ],
   "source": [
    "df.head()"
   ]
  },
  {
   "cell_type": "code",
   "execution_count": 33,
   "id": "3e44cf93",
   "metadata": {},
   "outputs": [],
   "source": [
    "df['sentiment']=df['sentiment'].astype(int)"
   ]
  },
  {
   "cell_type": "code",
   "execution_count": 35,
   "id": "32318ffd",
   "metadata": {},
   "outputs": [
    {
     "name": "stderr",
     "output_type": "stream",
     "text": [
      "C:\\Users\\HP\\anaconda3\\lib\\site-packages\\seaborn\\_decorators.py:36: FutureWarning: Pass the following variable as a keyword arg: x. From version 0.12, the only valid positional argument will be `data`, and passing other arguments without an explicit keyword will result in an error or misinterpretation.\n",
      "  warnings.warn(\n"
     ]
    },
    {
     "data": {
      "text/plain": [
       "<AxesSubplot:xlabel='sentiment', ylabel='count'>"
      ]
     },
     "execution_count": 35,
     "metadata": {},
     "output_type": "execute_result"
    },
    {
     "data": {
      "image/png": "[encoded data removed]",
      "text/plain": [
       "<Figure size 432x288 with 1 Axes>"
      ]
     },
     "metadata": {
      "needs_background": "light"
     },
     "output_type": "display_data"
    }
   ],
   "source": [
    "sns.countplot(df3.sentiment)"
   ]
  },
  {
   "cell_type": "code",
   "execution_count": 36,
   "id": "f3f92976",
   "metadata": {},
   "outputs": [],
   "source": [
    "from sklearn.feature_extraction.text import CountVectorizer\n",
    "from sklearn.model_selection import GridSearchCV\n",
    "from sklearn.ensemble import RandomForestClassifier"
   ]
  },
  {
   "cell_type": "code",
   "execution_count": 37,
   "id": "7d207d02",
   "metadata": {},
   "outputs": [],
   "source": [
    "from sklearn.metrics import accuracy_score,precision_score,recall_score,confusion_matrix,roc_curve,classification_report\n",
    "from sklearn.metrics import plot_confusion_matrix"
   ]
  },
  {
   "cell_type": "code",
   "execution_count": 38,
   "id": "328da102",
   "metadata": {},
   "outputs": [],
   "source": [
    "cv = CountVectorizer(ngram_range=(1,2))\n",
    "train_data = cv.fit_transform(df['tweet_text'])\n",
    "X = train_data\n",
    "y = df.sentiment"
   ]
  },
  {
   "cell_type": "code",
   "execution_count": 39,
   "id": "dba4d6ae",
   "metadata": {},
   "outputs": [],
   "source": [
    "from sklearn.naive_bayes import MultinomialNB\n",
    "from sklearn.svm import SVC\n",
    "from sklearn.tree import DecisionTreeClassifier\n",
    "from sklearn.model_selection import train_test_split"
   ]
  },
  {
   "cell_type": "code",
   "execution_count": 40,
   "id": "73e1da58",
   "metadata": {},
   "outputs": [],
   "source": [
    "x_train,x_test,y_train,y_test=train_test_split(X,y,test_size=0.3,random_state=42)"
   ]
  },
  {
   "cell_type": "code",
   "execution_count": 41,
   "id": "c700222a",
   "metadata": {},
   "outputs": [],
   "source": [
    "nb=MultinomialNB()"
   ]
  },
  {
   "cell_type": "code",
   "execution_count": 42,
   "id": "ab4decf0",
   "metadata": {},
   "outputs": [
    {
     "data": {
      "text/plain": [
       "MultinomialNB()"
      ]
     },
     "execution_count": 42,
     "metadata": {},
     "output_type": "execute_result"
    }
   ],
   "source": [
    "nb.fit(x_train,y_train)"
   ]
  },
  {
   "cell_type": "code",
   "execution_count": 43,
   "id": "456ad9ef",
   "metadata": {},
   "outputs": [],
   "source": [
    "pred=nb.predict(x_test)"
   ]
  },
  {
   "cell_type": "code",
   "execution_count": 44,
   "id": "e9149d8a",
   "metadata": {},
   "outputs": [
    {
     "data": {
      "text/plain": [
       "array([0, 0, 0, ..., 0, 0, 0])"
      ]
     },
     "execution_count": 44,
     "metadata": {},
     "output_type": "execute_result"
    }
   ],
   "source": [
    "pred"
   ]
  },
  {
   "cell_type": "code",
   "execution_count": 45,
   "id": "b528ade0",
   "metadata": {},
   "outputs": [
    {
     "data": {
      "text/plain": [
       "0.9371011149557862"
      ]
     },
     "execution_count": 45,
     "metadata": {},
     "output_type": "execute_result"
    }
   ],
   "source": [
    "accuracy_score(y_test,pred)"
   ]
  },
  {
   "cell_type": "code",
   "execution_count": 46,
   "id": "48c8e365",
   "metadata": {},
   "outputs": [
    {
     "data": {
      "text/plain": [
       "array([[    0,    16,     0],\n",
       "       [    1, 12129,   359],\n",
       "       [    0,   442,    58]], dtype=int64)"
      ]
     },
     "execution_count": 46,
     "metadata": {},
     "output_type": "execute_result"
    }
   ],
   "source": [
    "confusion_matrix(y_test,pred)"
   ]
  },
  {
   "cell_type": "code",
   "execution_count": 47,
   "id": "ea51e449",
   "metadata": {},
   "outputs": [
    {
     "name": "stdout",
     "output_type": "stream",
     "text": [
      "              precision    recall  f1-score   support\n",
      "\n",
      "          -1       0.00      0.00      0.00        16\n",
      "           0       0.96      0.97      0.97     12489\n",
      "           1       0.14      0.12      0.13       500\n",
      "\n",
      "    accuracy                           0.94     13005\n",
      "   macro avg       0.37      0.36      0.36     13005\n",
      "weighted avg       0.93      0.94      0.93     13005\n",
      "\n"
     ]
    }
   ],
   "source": [
    "print(classification_report(y_test,pred))"
   ]
  },
  {
   "cell_type": "code",
   "execution_count": 48,
   "id": "a0c646b3",
   "metadata": {},
   "outputs": [],
   "source": [
    "dt=DecisionTreeClassifier()"
   ]
  },
  {
   "cell_type": "code",
   "execution_count": 49,
   "id": "9987e9cc",
   "metadata": {},
   "outputs": [
    {
     "data": {
      "text/plain": [
       "DecisionTreeClassifier()"
      ]
     },
     "execution_count": 49,
     "metadata": {},
     "output_type": "execute_result"
    }
   ],
   "source": [
    "dt.fit(x_train,y_train)"
   ]
  },
  {
   "cell_type": "code",
   "execution_count": 50,
   "id": "334c854a",
   "metadata": {},
   "outputs": [],
   "source": [
    "pre=dt.predict(x_test)"
   ]
  },
  {
   "cell_type": "code",
   "execution_count": 51,
   "id": "2d0e6ab5",
   "metadata": {},
   "outputs": [
    {
     "data": {
      "text/plain": [
       "array([0, 0, 0, ..., 0, 0, 0])"
      ]
     },
     "execution_count": 51,
     "metadata": {},
     "output_type": "execute_result"
    }
   ],
   "source": [
    "pre"
   ]
  },
  {
   "cell_type": "code",
   "execution_count": 52,
   "id": "9147db00",
   "metadata": {},
   "outputs": [
    {
     "data": {
      "text/plain": [
       "0.9713187235678585"
      ]
     },
     "execution_count": 52,
     "metadata": {},
     "output_type": "execute_result"
    }
   ],
   "source": [
    "accuracy_score(y_test,pre)"
   ]
  },
  {
   "cell_type": "code",
   "execution_count": 53,
   "id": "4db1732f",
   "metadata": {},
   "outputs": [
    {
     "data": {
      "text/plain": [
       "array([[    4,    12,     0],\n",
       "       [    6, 12277,   206],\n",
       "       [    0,   149,   351]], dtype=int64)"
      ]
     },
     "execution_count": 53,
     "metadata": {},
     "output_type": "execute_result"
    }
   ],
   "source": [
    "confusion_matrix(y_test,pre)"
   ]
  },
  {
   "cell_type": "code",
   "execution_count": 54,
   "id": "46132538",
   "metadata": {},
   "outputs": [
    {
     "name": "stdout",
     "output_type": "stream",
     "text": [
      "              precision    recall  f1-score   support\n",
      "\n",
      "          -1       0.40      0.25      0.31        16\n",
      "           0       0.99      0.98      0.99     12489\n",
      "           1       0.63      0.70      0.66       500\n",
      "\n",
      "    accuracy                           0.97     13005\n",
      "   macro avg       0.67      0.65      0.65     13005\n",
      "weighted avg       0.97      0.97      0.97     13005\n",
      "\n"
     ]
    }
   ],
   "source": [
    "print(classification_report(y_test,pre))"
   ]
  },
  {
   "cell_type": "code",
   "execution_count": null,
   "id": "8b4b5526",
   "metadata": {},
   "outputs": [],
   "source": []
  },
  {
   "cell_type": "code",
   "execution_count": null,
   "id": "54980472",
   "metadata": {},
   "outputs": [],
   "source": [
    "parameters = {'max_features': ('auto','sqrt'),\n",
    "             'n_estimators': [500, 1000, 5000],\n",
    "             'max_depth': [3, 5, None],\n",
    "             'min_samples_split': [2, 5, 10],\n",
    "             'min_samples_leaf': [1, 2, 5],\n",
    "             'bootstrap': [True, False]}"
   ]
  },
  {
   "cell_type": "code",
   "execution_count": null,
   "id": "073fb7bf",
   "metadata": {},
   "outputs": [],
   "source": [
    "grid_search = GridSearchCV(RandomForestClassifier(),parameters,cv=5,return_train_score=True,n_jobs=-1)\n",
    "grid_search.fit(X,y)\n",
    "grid_search.best_params_"
   ]
  }
 ],
 "metadata": {
  "kernelspec": {
   "display_name": "Python 3",
   "language": "python",
   "name": "python3"
  },
  "language_info": {
   "codemirror_mode": {
    "name": "ipython",
    "version": 3
   },
   "file_extension": ".py",
   "mimetype": "text/x-python",
   "name": "python",
   "nbconvert_exporter": "python",
   "pygments_lexer": "ipython3",
   "version": "3.8.8"
  }
 },
 "nbformat": 4,
 "nbformat_minor": 5
}
